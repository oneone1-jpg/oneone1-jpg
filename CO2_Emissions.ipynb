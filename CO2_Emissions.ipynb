{
 "cells": [
  {
   "cell_type": "code",
   "execution_count": 80,
   "metadata": {
    "datalore": {
     "hide_input_from_viewers": true,
     "hide_output_from_viewers": true,
     "node_id": "6sqlpFi5euS8qAdyW8mYMw",
     "type": "CODE"
    }
   },
   "outputs": [],
   "source": [
    "import numpy as np \n",
    "import pandas as pd \n",
    "import matplotlib.pyplot as plt\n",
    "import seaborn as sns\n",
    "import scipy.stats as stats\n",
    "from scipy.stats import norm\n",
    "from scipy.stats import binom\n",
    "from scipy.stats import binom,poisson,gamma\n",
    "from matplotlib.animation import FuncAnimation"
   ]
  },
  {
   "cell_type": "code",
   "execution_count": 81,
   "metadata": {
    "datalore": {
     "hide_input_from_viewers": true,
     "hide_output_from_viewers": true,
     "node_id": "hhh7Bi7uMGOA5YNDEfqfGS",
     "type": "CODE"
    }
   },
   "outputs": [
    {
     "name": "stdout",
     "output_type": "stream",
     "text": [
      "Requirement already satisfied: openpyxl in /opt/python/envs/default/lib/python3.8/site-packages (3.1.5)\r\n",
      "Requirement already satisfied: et-xmlfile in /opt/python/envs/default/lib/python3.8/site-packages (from openpyxl) (1.1.0)\r\n",
      "\r\n",
      "\u001b[1m[\u001b[0m\u001b[34;49mnotice\u001b[0m\u001b[1;39;49m]\u001b[0m\u001b[39;49m A new release of pip is available: \u001b[0m\u001b[31;49m23.1.2\u001b[0m\u001b[39;49m -> \u001b[0m\u001b[32;49m24.2\u001b[0m\r\n",
      "\u001b[1m[\u001b[0m\u001b[34;49mnotice\u001b[0m\u001b[1;39;49m]\u001b[0m\u001b[39;49m To update, run: \u001b[0m\u001b[32;49mpip install --upgrade pip\u001b[0m\r\n",
      "Note: you may need to restart the kernel to use updated packages.\n"
     ]
    }
   ],
   "source": [
    "pip install openpyxl"
   ]
  },
  {
   "cell_type": "markdown",
   "metadata": {
    "datalore": {
     "hide_input_from_viewers": true,
     "hide_output_from_viewers": false,
     "node_id": "klRDSlasUo9JWYC8GAnO5F",
     "report_properties": {
      "relativeY": 0,
      "rowId": "qXdI89g0KgcC08bnsVLZHK"
     },
     "type": "MD"
    }
   },
   "source": [
    "**1. ĐỌC DỮ LIỆU**"
   ]
  },
  {
   "cell_type": "code",
   "execution_count": 82,
   "metadata": {
    "datalore": {
     "hide_input_from_viewers": true,
     "hide_output_from_viewers": false,
     "node_id": "wSfsSD0m5h1X1vv8kTUL1T",
     "report_properties": {
      "relativeY": 0,
      "rowId": "8blW59ufnim6jEEfcbf0sk"
     },
     "type": "CODE"
    }
   },
   "outputs": [
    {
     "data": {
      "text/html": [
       "<div>\n",
       "<style scoped>\n",
       "    .dataframe tbody tr th:only-of-type {\n",
       "        vertical-align: middle;\n",
       "    }\n",
       "\n",
       "    .dataframe tbody tr th {\n",
       "        vertical-align: top;\n",
       "    }\n",
       "\n",
       "    .dataframe thead th {\n",
       "        text-align: right;\n",
       "    }\n",
       "</style>\n",
       "<table border=\"1\" class=\"dataframe\">\n",
       "  <thead>\n",
       "    <tr style=\"text-align: right;\">\n",
       "      <th></th>\n",
       "      <th>Entity</th>\n",
       "      <th>Code</th>\n",
       "      <th>Year</th>\n",
       "      <th>Annual CO₂ emissions (per capita)</th>\n",
       "      <th>Air conditioners</th>\n",
       "      <th>GDP</th>\n",
       "    </tr>\n",
       "  </thead>\n",
       "  <tbody>\n",
       "    <tr>\n",
       "      <th>0</th>\n",
       "      <td>Afghanistan</td>\n",
       "      <td>AFG</td>\n",
       "      <td>1949</td>\n",
       "      <td>0.001992</td>\n",
       "      <td>NaN</td>\n",
       "      <td>NaN</td>\n",
       "    </tr>\n",
       "    <tr>\n",
       "      <th>1</th>\n",
       "      <td>Afghanistan</td>\n",
       "      <td>AFG</td>\n",
       "      <td>1950</td>\n",
       "      <td>0.011266</td>\n",
       "      <td>NaN</td>\n",
       "      <td>NaN</td>\n",
       "    </tr>\n",
       "    <tr>\n",
       "      <th>2</th>\n",
       "      <td>Afghanistan</td>\n",
       "      <td>AFG</td>\n",
       "      <td>1951</td>\n",
       "      <td>0.012098</td>\n",
       "      <td>NaN</td>\n",
       "      <td>NaN</td>\n",
       "    </tr>\n",
       "    <tr>\n",
       "      <th>3</th>\n",
       "      <td>Afghanistan</td>\n",
       "      <td>AFG</td>\n",
       "      <td>1952</td>\n",
       "      <td>0.011946</td>\n",
       "      <td>NaN</td>\n",
       "      <td>NaN</td>\n",
       "    </tr>\n",
       "    <tr>\n",
       "      <th>4</th>\n",
       "      <td>Afghanistan</td>\n",
       "      <td>AFG</td>\n",
       "      <td>1953</td>\n",
       "      <td>0.013685</td>\n",
       "      <td>NaN</td>\n",
       "      <td>NaN</td>\n",
       "    </tr>\n",
       "  </tbody>\n",
       "</table>\n",
       "</div>"
      ]
     },
     "metadata": {},
     "output_type": "display_data"
    }
   ],
   "source": [
    "data = pd.read_excel('./co2.xlsx')\n",
    "data.head()"
   ]
  },
  {
   "cell_type": "markdown",
   "metadata": {
    "datalore": {
     "hide_input_from_viewers": true,
     "hide_output_from_viewers": false,
     "node_id": "ul1J3GZAUfOxErAfNzJrXT",
     "report_properties": {
      "relativeY": 0,
      "rowId": "QqE9v1mZQ8JbxcFTIH4xp6"
     },
     "type": "MD"
    }
   },
   "source": [
    "**2. CO2 PHÁT THẢI QUA MỖI NĂM**"
   ]
  },
  {
   "cell_type": "code",
   "execution_count": 83,
   "metadata": {
    "datalore": {
     "hide_input_from_viewers": true,
     "hide_output_from_viewers": false,
     "node_id": "QizWYaRmmAhBV1VqeFMsup",
     "report_properties": {
      "relativeY": 0,
      "rowId": "7oE5t66VpYeF6iK1K79hSr"
     },
     "type": "CODE"
    }
   },
   "outputs": [
    {
     "data": {
      "text/plain": [
       "(0.0, 5.0)"
      ]
     },
     "metadata": {},
     "output_type": "display_data"
    },
    {
     "data": {
      "image/png": "[encoded data removed]"
     },
     "metadata": {
      "image/png": {}
     },
     "output_type": "display_data"
    }
   ],
   "source": [
    "import pandas as pd\n",
    "import seaborn as sns\n",
    "import matplotlib.pyplot as plt\n",
    "from matplotlib.widgets import Slider\n",
    "from ipywidgets import FloatSlider, VBox\n",
    "\n",
    "df = pd.DataFrame(data)\n",
    "\n",
    "# Lọc chỉ lấy dữ liệu của World\n",
    "W_df = df[df['Entity'] == 'World']\n",
    "\n",
    "\n",
    "# Thiết lập kích thước đồ thị\n",
    "fig, ax = plt.subplots(figsize=(20, 6))\n",
    "\n",
    "plt.xticks(range(1750, 2022 + 1, 20))  # Hiển thị mỗi 5 năm\n",
    "\n",
    "# Vẽ đồ thị ban đầu\n",
    "line, = ax.plot(W_df['Year'], W_df['Annual CO₂ emissions (per capita)'], marker='.', color='#84A93F', linewidth=3)\n",
    "ax.set_title('Annual CO₂ Emissions Over Years', fontsize=16)\n",
    "ax.set_xlabel('Year', fontsize=14)\n",
    "ax.set_ylabel('Annual CO₂ Emissions', fontsize=14)\n",
    "ax.set_ylim(0,5)"
   ]
  },
  {
   "cell_type": "code",
   "execution_count": 0,
   "metadata": {
    "datalore": {
     "hide_input_from_viewers": true,
     "hide_output_from_viewers": true,
     "node_id": "BhCOczWvp93iRNHMVmzhOR",
     "type": "CODE"
    }
   },
   "outputs": [],
   "source": []
  },
  {
   "cell_type": "code",
   "execution_count": 84,
   "metadata": {
    "datalore": {
     "hide_input_from_viewers": true,
     "hide_output_from_viewers": true,
     "node_id": "1Ft3moUoi0eekkJOKeRPY3",
     "type": "CODE"
    }
   },
   "outputs": [
    {
     "name": "stdout",
     "output_type": "stream",
     "text": [
      "      Entity      Code  Year  Annual CO₂ emissions (per capita)  \\\n",
      "26171  World  OWID_WRL  1860                           0.254567   \n",
      "26181  World  OWID_WRL  1870                           0.397510   \n",
      "26186  World  OWID_WRL  1875                           0.492460   \n",
      "26211  World  OWID_WRL  1900                           1.199232   \n",
      "26227  World  OWID_WRL  1916                           1.840581   \n",
      "26234  World  OWID_WRL  1923                           1.893368   \n",
      "26244  World  OWID_WRL  1933                           1.568030   \n",
      "26254  World  OWID_WRL  1943                           2.150360   \n",
      "26264  World  OWID_WRL  1953                           2.519000   \n",
      "26274  World  OWID_WRL  1963                           3.212377   \n",
      "26284  World  OWID_WRL  1973                           4.357756   \n",
      "26294  World  OWID_WRL  1983                           4.046541   \n",
      "26304  World  OWID_WRL  1993                           4.087606   \n",
      "26314  World  OWID_WRL  2003                           4.324224   \n",
      "26324  World  OWID_WRL  2013                           4.859253   \n",
      "26333  World  OWID_WRL  2022                           4.658219   \n",
      "\n",
      "       Air conditioners  GDP  \n",
      "26171               NaN  NaN  \n",
      "26181               NaN  NaN  \n",
      "26186               NaN  NaN  \n",
      "26211               NaN  NaN  \n",
      "26227               NaN  NaN  \n",
      "26234               NaN  NaN  \n",
      "26244               NaN  NaN  \n",
      "26254               NaN  NaN  \n",
      "26264               NaN  NaN  \n",
      "26274               NaN  NaN  \n",
      "26284               NaN  NaN  \n",
      "26294               NaN  NaN  \n",
      "26304       237330000.0  NaN  \n",
      "26314       314210000.0  NaN  \n",
      "26324       355650000.0  NaN  \n",
      "26333       411290000.0  NaN  \n"
     ]
    }
   ],
   "source": [
    "\n",
    "specific_years = [1860,1870, 1875,1900, 1916, 1923, 1933, 1943, 1953, 1963, 1973, 1983, 1993, 2003, 2013, 2022]\n",
    "filtered_df = W_df[W_df['Year'].isin(specific_years)]\n",
    "print(filtered_df)"
   ]
  },
  {
   "cell_type": "markdown",
   "metadata": {
    "datalore": {
     "hide_input_from_viewers": true,
     "hide_output_from_viewers": false,
     "node_id": "H4WdttYaPrj4bdyNTmFEZ2",
     "report_properties": {
      "relativeY": 0,
      "rowId": "iji8DupUpfMB9CQz4q39Nm"
     },
     "type": "MD"
    }
   },
   "source": [
    "**3. Những biến động mạnh của CO2 phát thải qua sự kiện lịch sử**"
   ]
  },
  {
   "cell_type": "code",
   "execution_count": 85,
   "metadata": {
    "datalore": {
     "hide_input_from_viewers": true,
     "hide_output_from_viewers": false,
     "node_id": "K3A9rqlsY1ulxFuTP9CY0X",
     "report_properties": {
      "relativeY": 0,
      "rowId": "5e95mDfA1ss0TJeEhNwbhJ"
     },
     "type": "CODE"
    }
   },
   "outputs": [
    {
     "data": {
      "image/png": "[encoded data removed]"
     },
     "metadata": {
      "image/png": {}
     },
     "output_type": "display_data"
    }
   ],
   "source": [
    "\n",
    "# Tạo figure ban đầu\n",
    "plt.figure(figsize=(18, 8))\n",
    "ax = plt.gca()  # Lấy trục hiện tại\n",
    "\n",
    "# Vẽ bar chart\n",
    "bars = ax.bar(filtered_df['Year'], filtered_df['Annual CO₂ emissions (per capita)'], color='#84A93F', edgecolor='black',width=4)\n",
    "\n",
    "# Đặt tiêu đề và nhãn trục\n",
    "ax.set_title('Annual CO₂ Emissions Over Years', fontsize=18)\n",
    "ax.set_xlabel('Year', fontsize=14)\n",
    "ax.set_ylabel('Annual CO₂ Emissions', fontsize=14)\n",
    "ax.set_ylim(0, 7)  # Giới hạn trục Y\n",
    "plt.grid(axis='y')\n",
    "\n",
    "\n",
    "\n",
    "events = [\n",
    "    {'start': 1860, 'end': 1870, 'label': 'Industrial \\nrevolution 2.0', 'xy': (1865, 5)},\n",
    "    {'start': 1914, 'end': 1918, 'label': 'World War I', 'xy': (1915, 5)},\n",
    "    {'start': 1929, 'end': 1939, 'label': 'Great \\nDepression', 'xy': (1933, 5)},\n",
    "    {'start': 1980, 'end': 1992, 'label': 'Energy Crisis', 'xy': (1990, 5)},\n",
    "    {'start': 2003, 'end': 2015, 'label': 'Economic of \\n China', 'xy': (2007, 5)},\n",
    "    {'start': 2020, 'end': 2022, 'label': 'COVID-19', 'xy': (2022, 5)},\n",
    "]\n",
    "\n",
    "# Tô màu nền cho các khoảng thời gian\n",
    "for event in events:\n",
    "    ax.axvspan(event['start'], event['end'], color='#431808', alpha=0.3)\n",
    "    ax.annotate(event['label'], xy=event['xy'] ,xytext=(event['xy'][0], event['xy'][1]+0.7),\n",
    "                arrowprops=dict(facecolor='white', shrink=0.0004),\n",
    "                fontsize=14, color='#431808',va='top',fontweight='bold')\n",
    "\n",
    "# Hiển thị đồ thị\n",
    "plt.tight_layout()\n",
    "plt.show()"
   ]
  },
  {
   "cell_type": "markdown",
   "metadata": {
    "datalore": {
     "hide_input_from_viewers": true,
     "hide_output_from_viewers": false,
     "node_id": "M9sRWrmdWy97OSvDiwKFYc",
     "report_properties": {
      "relativeY": 0,
      "rowId": "1vsYJN8BNcXdIdD9fNUOFG"
     },
     "type": "MD"
    }
   },
   "source": [
    "**4. So sánh biểu đồ của các quốc gia có sự phát triển thần tốc về kinh tế**"
   ]
  },
  {
   "cell_type": "code",
   "execution_count": 86,
   "metadata": {
    "datalore": {
     "hide_input_from_viewers": true,
     "hide_output_from_viewers": false,
     "node_id": "eelOdp9DxbDwARfXx36cw1",
     "report_properties": {
      "relativeY": 0,
      "rowId": "06ILQpwbPb8GuwIgAhwEZi"
     },
     "type": "CODE"
    }
   },
   "outputs": [
    {
     "data": {
      "application/vnd.jupyter.widget-view+json": {
       "model_id": "b436e40f58014156babdefc66b574307",
       "version_major": 2,
       "version_minor": 0
      }
     },
     "metadata": {
      "application/vnd.jupyter.widget-view+json": {
       "datalore": {
        "widget_id": "lXAmHp3cJ2btQwhA5eVtIJ"
       }
      }
     },
     "output_type": "display_data"
    }
   ],
   "source": [
    "import pandas as pd\n",
    "import seaborn as sns\n",
    "import matplotlib.pyplot as plt\n",
    "from ipywidgets import FloatSlider, Dropdown, VBox, Button\n",
    "\n",
    "\n",
    "\n",
    "df = pd.DataFrame(data)\n",
    "\n",
    "# Lọc dữ liệu cho các quốc gia\n",
    "entities = df['Entity'].unique()\n",
    "\n",
    "# Danh sách quốc gia đã chọn\n",
    "selected_entities = []\n",
    "\n",
    "# Hàm vẽ đồ thị\n",
    "def plot_graph(start_year, end_year):\n",
    "    plt.figure(figsize=(10, 6))\n",
    "     \n",
    "    for entity in selected_entities:\n",
    "        filtered_df = df[(df['Year'] >= start_year) & (df['Year'] <= end_year) & (df['Entity'] == entity)]\n",
    "        sns.lineplot(data=filtered_df, x='Year', y='Annual CO₂ emissions (per capita)', marker='o', label=entity, linewidth=2,)\n",
    "    \n",
    "    plt.title('Annual CO₂ Emissions (per capita) Over Years', fontsize=16)\n",
    "    plt.xlabel('Year', fontsize=14)\n",
    "    plt.ylabel('Annual CO₂ Emissions (per capita)', fontsize=14)\n",
    "    plt.xlim(start_year, end_year)\n",
    "    plt.ylim(0, 5)\n",
    "    plt.grid(True)\n",
    "    plt.legend(title='Country', bbox_to_anchor=(1.05, 1), loc='upper left')\n",
    "    plt.show()\n",
    "\n",
    "# Slider để điều chỉnh khoảng thời gian\n",
    "year_slider = FloatSlider(value=2022, min=1750, max=2022, step=1, description='End Year:')\n",
    "start_slider = FloatSlider(value=1750, min=1750, max=2022, step=1, description='Start Year:')\n",
    "entity_dropdown = Dropdown(options=entities, value='Africa', description='Select Entity:')\n",
    "add_button = Button(description='Add Country')\n",
    "\n",
    "# Hàm thêm quốc gia đã chọn vào danh sách\n",
    "def add_country(b):\n",
    "    entity = entity_dropdown.value\n",
    "    if entity not in selected_entities:\n",
    "        selected_entities.append(entity)\n",
    "    plot_graph(start_slider.value, year_slider.value)\n",
    "\n",
    "# Kết nối button với hàm thêm quốc gia\n",
    "add_button.on_click(add_country)\n",
    "\n",
    "# Kết nối các widget với hàm cập nhật\n",
    "start_slider.observe(lambda change: plot_graph(start_slider.value, year_slider.value), names='value')\n",
    "year_slider.observe(lambda change: plot_graph(start_slider.value, year_slider.value), names='value')\n",
    "\n",
    "# Hiển thị sliders và dropdown\n",
    "VBox([entity_dropdown, add_button, start_slider, year_slider])"
   ]
  },
  {
   "cell_type": "code",
   "execution_count": 87,
   "metadata": {
    "datalore": {
     "hide_input_from_viewers": true,
     "hide_output_from_viewers": true,
     "node_id": "xuZ6WxkgP6zOPbkgsuarEO",
     "type": "CODE"
    }
   },
   "outputs": [
    {
     "name": "stdout",
     "output_type": "stream",
     "text": [
      "       Entity      Code  Year  Annual CO₂ emissions (per capita)  \\\n",
      "3904   Brazil       BRA  1990                           1.450887   \n",
      "3905   Brazil       BRA  1991                           1.496018   \n",
      "3906   Brazil       BRA  1992                           1.498395   \n",
      "3907   Brazil       BRA  1993                           1.541938   \n",
      "3908   Brazil       BRA  1994                           1.577843   \n",
      "...       ...       ...   ...                                ...   \n",
      "26329   World  OWID_WRL  2018                           4.785001   \n",
      "26330   World  OWID_WRL  2019                           4.770166   \n",
      "26331   World  OWID_WRL  2020                           4.464730   \n",
      "26332   World  OWID_WRL  2021                           4.654845   \n",
      "26333   World  OWID_WRL  2022                           4.658219   \n",
      "\n",
      "       Air conditioners  GDP  \n",
      "3904          7240000.0  NaN  \n",
      "3905          7730000.0  NaN  \n",
      "3906          7830000.0  NaN  \n",
      "3907          8460000.0  NaN  \n",
      "3908          9400000.0  NaN  \n",
      "...                 ...  ...  \n",
      "26329       386490000.0  NaN  \n",
      "26330       393270000.0  NaN  \n",
      "26331       399470000.0  NaN  \n",
      "26332       405400000.0  NaN  \n",
      "26333       411290000.0  NaN  \n",
      "\n",
      "[297 rows x 6 columns]\n"
     ]
    }
   ],
   "source": [
    "filtered_df_1 = df[df['Air conditioners'].notna()]\n",
    "print(filtered_df_1)"
   ]
  },
  {
   "cell_type": "markdown",
   "metadata": {
    "datalore": {
     "hide_input_from_viewers": true,
     "hide_output_from_viewers": false,
     "node_id": "Enaje0wc5Nn49ZEzDdxUTk",
     "report_properties": {
      "relativeY": 0,
      "rowId": "nPuJZdd7C3yKfEUkLRVWQV"
     },
     "type": "MD"
    }
   },
   "source": [
    "**5. Đi sâu hơn vào dòng thời gian để nhìn thấy tương quan giữa các dữ liệu**"
   ]
  },
  {
   "cell_type": "code",
   "execution_count": 88,
   "metadata": {
    "datalore": {
     "hide_input_from_viewers": false,
     "hide_output_from_viewers": false,
     "node_id": "g3UJDUMv8UpDitp4ugJ1J3",
     "report_properties": {
      "relativeY": 0,
      "rowId": "ipDM56PwtM3Nm2ZaQp1Asq"
     },
     "run_cell_properties": {
      "label": "Button",
      "showCode": false
     },
     "type": "RUN"
    }
   },
   "outputs": [
    {
     "data": {
      "application/vnd.jupyter.widget-view+json": {
       "model_id": "f565a577e69e4399af12743ef49bcfcf",
       "version_major": 2,
       "version_minor": 0
      }
     },
     "metadata": {
      "application/vnd.jupyter.widget-view+json": {
       "datalore": {
        "widget_id": "uBzxoRF5PNiePM0PPWH5ew"
       }
      }
     },
     "output_type": "display_data"
    },
    {
     "data": {
      "image/png": "[encoded data removed]"
     },
     "metadata": {
      "image/png": {}
     },
     "output_type": "display_data"
    },
    {
     "data": {
      "text/plain": [
       "<function __main__.plot_country(country)>"
      ]
     },
     "metadata": {},
     "output_type": "display_data"
    }
   ],
   "source": [
    "import pandas as pd\n",
    "import matplotlib.pyplot as plt\n",
    "from ipywidgets import interact, Dropdown\n",
    "\n",
    "\n",
    "# Lọc các giá trị hợp lệ cho dropdown\n",
    "valid_entities = filtered_df_1['Entity'].unique().tolist()\n",
    "\n",
    "# Hàm vẽ biểu đồ\n",
    "def plot_country(country):\n",
    "    plt.figure(figsize=(12, 6))\n",
    "\n",
    "    # Lọc dữ liệu theo quốc gia\n",
    "    filtered_df_2 = filtered_df_1[filtered_df_1['Entity'] == country]\n",
    "\n",
    "    # Bar chart cho CO₂ emissions\n",
    "    ax1 = plt.gca()  # Lấy trục hiện tại\n",
    "    ax1.bar(filtered_df_2['Year'], filtered_df_2['Annual CO₂ emissions (per capita)'], color='skyblue', label='CO₂ Emissions')\n",
    "    ax1.set_title(f'CO₂ Emissions and Air Conditioners in {country}', fontsize=16)\n",
    "    ax1.set_ylabel('CO₂ Emissions (per capita)', fontsize=14)\n",
    "    ax1.set_xlabel('Year', fontsize=14)\n",
    "    \n",
    "    # Thêm xticks theo năm\n",
    "    ax1.set_xticks(filtered_df_2['Year'])\n",
    "    ax1.set_xticklabels(filtered_df_2['Year'], rotation=45)\n",
    "\n",
    "    # Tạo trục y thứ hai cho Air conditioners\n",
    "    ax2 = ax1.twinx()  # Tạo trục y thứ hai\n",
    "    air_conditioners_data = filtered_df_2['Air conditioners'].dropna()\n",
    "    \n",
    "    if not air_conditioners_data.empty:\n",
    "        ax2.plot(filtered_df_2['Year'], air_conditioners_data, marker='o', color='orange', label='Air Conditioners')\n",
    "        ax2.set_ylabel('Air Conditioners', fontsize=14)\n",
    "\n",
    "    # Thiết lập legend\n",
    "    ax1.legend(loc='upper left')\n",
    "    ax2.legend(loc='upper right')\n",
    "\n",
    "    plt.grid(axis='y')\n",
    "    plt.tight_layout()\n",
    "    plt.show()\n",
    "\n",
    "# Tạo dropdown để chọn quốc gia\n",
    "country_dropdown = Dropdown(\n",
    "    options=valid_entities,\n",
    "    value=valid_entities[0],  # Chọn giá trị đầu tiên làm giá trị mặc định\n",
    "    description='Select Country:'\n",
    ")\n",
    "\n",
    "# Sử dụng interact để tạo tương tác\n",
    "interact(plot_country, country=country_dropdown)"
   ]
  },
  {
   "cell_type": "markdown",
   "metadata": {
    "datalore": {
     "hide_input_from_viewers": true,
     "hide_output_from_viewers": false,
     "node_id": "rZA5A7osco2gQvSvVkCAqy",
     "report_properties": {
      "relativeY": 0,
      "rowId": "MSFAZYXh7c0md9pqwijeqF"
     },
     "type": "MD"
    }
   },
   "source": [
    "### Kết Luận Về Dữ Liệu CO₂ và Tốc Độ Tăng Trưởng\n",
    "\n",
    "Dữ liệu về phát thải CO₂ trên đầu người qua các năm cho thấy một xu hướng đáng chú ý ở nhiều quốc gia trên thế giới. Sự gia tăng phát thải CO₂ thường đi đôi với sự tăng trưởng kinh tế mạnh mẽ, điều này cho thấy rằng** khi nền kinh tế phát triển, nhu cầu sử dụng năng lượng cũng gia tăng.** Các hoạt động công nghiệp, giao thông và tiêu thụ năng lượng trong sinh hoạt đều góp phần vào việc phát thải khí nhà kính, đặc biệt là CO₂. \n",
    "\n",
    "*Trong những thập kỷ gần đây, tốc độ tăng trưởng kinh tế của nhiều quốc gia đã dẫn đến một mức phát thải CO₂ cao hơn, gây ra những tác động tiêu cực đến môi trường*. Biểu đồ cho thấy sự gia tăng này không chỉ ảnh hưởng đến khí hậu mà còn có thể gây ra nhiều hệ lụy nghiêm trọng về sức khỏe cộng đồng và hệ sinh thái.\n",
    "\n",
    "Một yếu tố đáng lưu ý khác là sự gia tăng số lượng máy điều hòa không khí (AC). Khi nhiệt độ trung bình toàn cầu tăng, nhu cầu về các thiết bị làm mát, như máy điều hòa không khí, cũng tăng theo. **Sự gia tăng này không chỉ làm tăng tiêu thụ điện năng, mà còn dẫn đến phát thải CO₂ từ các nhà máy điện.** Do đó, mặc dù máy điều hòa không khí cung cấp sự thoải mái trong cuộc sống hàng ngày, nhưng chúng cũng góp phần vào cuộc khủng hoảng khí hậu hiện tại.\n",
    "\n",
    "Tóm lại, để giảm thiểu tác động của phát thải CO₂, cần có những giải pháp bền vững hơn trong phát triển kinh tế và sử dụng năng lượng. Các quốc gia nên thúc đẩy công nghệ xanh, năng lượng tái tạo và nâng cao nhận thức cộng đồng về bảo vệ môi trường. **Sự tương quan giữa tăng trưởng kinh tế, phát thải CO₂ và số lượng máy điều hòa không khí cần được xem xét một cách tổng thể trong các chính sách môi trường và phát triển kinh tế trong tương lai.**"
   ]
  },
  {
   "cell_type": "code",
   "execution_count": 0,
   "metadata": {
    "datalore": {
     "hide_input_from_viewers": true,
     "hide_output_from_viewers": true,
     "node_id": "cWVzhL48nLFIcqZZZXlQ0X",
     "type": "CODE"
    }
   },
   "outputs": [],
   "source": []
  }
 ],
 "metadata": {
  "datalore": {
   "base_environment": "default",
   "computation_mode": "JUPYTER",
   "package_manager": "pip",
   "packages": [],
   "report_link": "https://datalore.jetbrains.com/report/TJxltWIOwdhWLJU32TfKQ1/9apgNGwejMEXrRCRZLaCgr",
   "report_row_ids": [
    "qXdI89g0KgcC08bnsVLZHK",
    "8blW59ufnim6jEEfcbf0sk",
    "QqE9v1mZQ8JbxcFTIH4xp6",
    "7oE5t66VpYeF6iK1K79hSr",
    "iji8DupUpfMB9CQz4q39Nm",
    "5e95mDfA1ss0TJeEhNwbhJ",
    "1vsYJN8BNcXdIdD9fNUOFG",
    "06ILQpwbPb8GuwIgAhwEZi",
    "nPuJZdd7C3yKfEUkLRVWQV",
    "ipDM56PwtM3Nm2ZaQp1Asq",
    "MSFAZYXh7c0md9pqwijeqF"
   ],
   "version": 3
  },
  "kernelspec": {
   "display_name": "Python 3",
   "language": "python",
   "name": "python3"
  },
  "language_info": {
   "codemirror_mode": {
    "name": "ipython",
    "version": 3
   },
   "file_extension": ".py",
   "mimetype": "text/x-python",
   "name": "python",
   "nbconvert_exporter": "python",
   "pygments_lexer": "ipython3",
   "version": "3.8.8"
  },
  "widgets": {
   "application/vnd.jupyter.widget-state+json": {
    "state": {
     "1ebfa6c585004a8a83cf09499b359201": {
      "model_module": "@jupyter-widgets/controls",
      "model_module_version": "1.5.0",
      "model_name": "DescriptionStyleModel",
      "state": {
       "description_width": ""
      }
     },
     "25380d5040f7414da4e3dc8974304c81": {
      "model_module": "@jupyter-widgets/controls",
      "model_module_version": "1.5.0",
      "model_name": "ButtonModel",
      "state": {
       "description": "Add Country",
       "layout": "IPY_MODEL_817db61c03214198bf66ed495f814764",
       "style": "IPY_MODEL_5fc016fabc964efd8fa7899b2d904cac"
      }
     },
     "5ccda8ee4e3b492e8648f619cd0bcee1": {
      "model_module": "@jupyter-widgets/base",
      "model_module_version": "1.2.0",
      "model_name": "LayoutModel",
      "state": {}
     },
     "5fc016fabc964efd8fa7899b2d904cac": {
      "model_module": "@jupyter-widgets/controls",
      "model_module_version": "1.5.0",
      "model_name": "ButtonStyleModel",
      "state": {}
     },
     "60f3e645fb324bb08e3124be1cddf94f": {
      "model_module": "@jupyter-widgets/controls",
      "model_module_version": "1.5.0",
      "model_name": "SliderStyleModel",
      "state": {
       "description_width": ""
      }
     },
     "6da0831f528a4ed28f7cca2a70118338": {
      "model_module": "@jupyter-widgets/controls",
      "model_module_version": "1.5.0",
      "model_name": "DropdownModel",
      "state": {
       "_options_labels": [
        "Afghanistan",
        "Africa",
        "Albania",
        "Algeria",
        "Andorra",
        "Angola",
        "Anguilla",
        "Antigua and Barbuda",
        "Argentina",
        "Armenia",
        "Aruba",
        "Asia",
        "Asia (excl. China and India)",
        "Australia",
        "Austria",
        "Azerbaijan",
        "Bahamas",
        "Bahrain",
        "Bangladesh",
        "Barbados",
        "Belarus",
        "Belgium",
        "Belize",
        "Benin",
        "Bermuda",
        "Bhutan",
        "Bolivia",
        "Bonaire Sint Eustatius and Saba",
        "Bosnia and Herzegovina",
        "Botswana",
        "Brazil",
        "British Virgin Islands",
        "Brunei",
        "Bulgaria",
        "Burkina Faso",
        "Burundi",
        "Cambodia",
        "Cameroon",
        "Canada",
        "Cape Verde",
        "Central African Republic",
        "Chad",
        "Chile",
        "China",
        "Colombia",
        "Comoros",
        "Congo",
        "Cook Islands",
        "Costa Rica",
        "Cote d'Ivoire",
        "Croatia",
        "Cuba",
        "Curacao",
        "Cyprus",
        "Czechia",
        "Democratic Republic of Congo",
        "Denmark",
        "Djibouti",
        "Dominica",
        "Dominican Republic",
        "East Timor",
        "Ecuador",
        "Egypt",
        "El Salvador",
        "Equatorial Guinea",
        "Eritrea",
        "Estonia",
        "Eswatini",
        "Ethiopia",
        "Europe",
        "Europe (excl. EU-27)",
        "Europe (excl. EU-28)",
        "European Union (27)",
        "European Union (28)",
        "Faroe Islands",
        "Fiji",
        "Finland",
        "France",
        "French Polynesia",
        "Gabon",
        "Gambia",
        "Georgia",
        "Germany",
        "Ghana",
        "Greece",
        "Greenland",
        "Grenada",
        "Guatemala",
        "Guinea",
        "Guinea-Bissau",
        "Guyana",
        "Haiti",
        "High-income countries",
        "Honduras",
        "Hong Kong",
        "Hungary",
        "Iceland",
        "India",
        "Indonesia",
        "Iran",
        "Iraq",
        "Ireland",
        "Israel",
        "Italy",
        "Jamaica",
        "Japan",
        "Jordan",
        "Kazakhstan",
        "Kenya",
        "Kiribati",
        "Kosovo",
        "Kuwait",
        "Kyrgyzstan",
        "Laos",
        "Latvia",
        "Lebanon",
        "Lesotho",
        "Liberia",
        "Libya",
        "Liechtenstein",
        "Lithuania",
        "Low-income countries",
        "Lower-middle-income countries",
        "Luxembourg",
        "Macao",
        "Madagascar",
        "Malawi",
        "Malaysia",
        "Maldives",
        "Mali",
        "Malta",
        "Marshall Islands",
        "Mauritania",
        "Mauritius",
        "Mexico",
        "Micronesia (country)",
        "Moldova",
        "Mongolia",
        "Montenegro",
        "Montserrat",
        "Morocco",
        "Mozambique",
        "Myanmar",
        "Namibia",
        "Nauru",
        "Nepal",
        "Netherlands",
        "New Caledonia",
        "New Zealand",
        "Nicaragua",
        "Niger",
        "Nigeria",
        "Niue",
        "North America",
        "North America (excl. USA)",
        "North Korea",
        "North Macedonia",
        "Norway",
        "Oceania",
        "Oman",
        "Pakistan",
        "Palau",
        "Palestine",
        "Panama",
        "Papua New Guinea",
        "Paraguay",
        "Peru",
        "Philippines",
        "Poland",
        "Portugal",
        "Qatar",
        "Romania",
        "Russia",
        "Rwanda",
        "Saint Helena",
        "Saint Kitts and Nevis",
        "Saint Lucia",
        "Saint Pierre and Miquelon",
        "Saint Vincent and the Grenadines",
        "Samoa",
        "Sao Tome and Principe",
        "Saudi Arabia",
        "Senegal",
        "Serbia",
        "Seychelles",
        "Sierra Leone",
        "Singapore",
        "Sint Maarten (Dutch part)",
        "Slovakia",
        "Slovenia",
        "Solomon Islands",
        "Somalia",
        "South Africa",
        "South America",
        "South Korea",
        "South Sudan",
        "Spain",
        "Sri Lanka",
        "Sudan",
        "Suriname",
        "Sweden",
        "Switzerland",
        "Syria",
        "Taiwan",
        "Tajikistan",
        "Tanzania",
        "Thailand",
        "Togo",
        "Tonga",
        "Trinidad and Tobago",
        "Tunisia",
        "Turkey",
        "Turkmenistan",
        "Turks and Caicos Islands",
        "Tuvalu",
        "Uganda",
        "Ukraine",
        "United Arab Emirates",
        "United Kingdom",
        "United States",
        "Upper-middle-income countries",
        "Uruguay",
        "Uzbekistan",
        "Vanuatu",
        "Venezuela",
        "Vietnam",
        "Wallis and Futuna",
        "World",
        "Yemen",
        "Zambia",
        "Zimbabwe"
       ],
       "description": "Select Entity:",
       "index": 1,
       "layout": "IPY_MODEL_896ad6a8ce8140429e454b18fed6cdf5",
       "style": "IPY_MODEL_1ebfa6c585004a8a83cf09499b359201"
      }
     },
     "817db61c03214198bf66ed495f814764": {
      "model_module": "@jupyter-widgets/base",
      "model_module_version": "1.2.0",
      "model_name": "LayoutModel",
      "state": {}
     },
     "896ad6a8ce8140429e454b18fed6cdf5": {
      "model_module": "@jupyter-widgets/base",
      "model_module_version": "1.2.0",
      "model_name": "LayoutModel",
      "state": {}
     },
     "8b94aa81e0f348e1b22736c73beab544": {
      "model_module": "@jupyter-widgets/controls",
      "model_module_version": "1.5.0",
      "model_name": "FloatSliderModel",
      "state": {
       "description": "Start Year:",
       "layout": "IPY_MODEL_e1099d0c56b4449a9107465d48a9821a",
       "max": 2022,
       "min": 1750,
       "style": "IPY_MODEL_f3e23a1d594b4254903fb714a4a9bdec",
       "value": 1750
      }
     },
     "91610c65ea61436da8852d05e64d7789": {
      "model_module": "@jupyter-widgets/controls",
      "model_module_version": "1.5.0",
      "model_name": "FloatSliderModel",
      "state": {
       "description": "End Year:",
       "layout": "IPY_MODEL_989eb014a1ac42da8f71f74afa75e229",
       "max": 2022,
       "min": 1750,
       "style": "IPY_MODEL_60f3e645fb324bb08e3124be1cddf94f",
       "value": 2022
      }
     },
     "989eb014a1ac42da8f71f74afa75e229": {
      "model_module": "@jupyter-widgets/base",
      "model_module_version": "1.2.0",
      "model_name": "LayoutModel",
      "state": {}
     },
     "9e07aae34b7c473297780abbf44224fd": {
      "model_module": "@jupyter-widgets/base",
      "model_module_version": "1.2.0",
      "model_name": "LayoutModel",
      "state": {}
     },
     "a7599f698f73467daf5d2142a33cf7ab": {
      "model_module": "@jupyter-widgets/controls",
      "model_module_version": "1.5.0",
      "model_name": "DescriptionStyleModel",
      "state": {
       "description_width": ""
      }
     },
     "b436e40f58014156babdefc66b574307": {
      "model_module": "@jupyter-widgets/controls",
      "model_module_version": "1.5.0",
      "model_name": "VBoxModel",
      "state": {
       "children": [
        "IPY_MODEL_6da0831f528a4ed28f7cca2a70118338",
        "IPY_MODEL_25380d5040f7414da4e3dc8974304c81",
        "IPY_MODEL_8b94aa81e0f348e1b22736c73beab544",
        "IPY_MODEL_91610c65ea61436da8852d05e64d7789"
       ],
       "layout": "IPY_MODEL_9e07aae34b7c473297780abbf44224fd"
      }
     },
     "c23579b73bf44fbd9a225a01a9919918": {
      "model_module": "@jupyter-widgets/output",
      "model_module_version": "1.0.0",
      "model_name": "OutputModel",
      "state": {
       "layout": "IPY_MODEL_f22eb245dc2d4b98bec16dc36093bee3"
      }
     },
     "cc10bb9c7dac4811b80f05011105bee7": {
      "model_module": "@jupyter-widgets/controls",
      "model_module_version": "1.5.0",
      "model_name": "DropdownModel",
      "state": {
       "_options_labels": [
        "Brazil",
        "China",
        "Europe",
        "India",
        "Indonesia",
        "Japan",
        "Mexico",
        "United States",
        "World"
       ],
       "description": "Select Country:",
       "index": 0,
       "layout": "IPY_MODEL_f56bbd44617e4f7a9dfda67972f8a4e2",
       "style": "IPY_MODEL_a7599f698f73467daf5d2142a33cf7ab"
      }
     },
     "e1099d0c56b4449a9107465d48a9821a": {
      "model_module": "@jupyter-widgets/base",
      "model_module_version": "1.2.0",
      "model_name": "LayoutModel",
      "state": {}
     },
     "f22eb245dc2d4b98bec16dc36093bee3": {
      "model_module": "@jupyter-widgets/base",
      "model_module_version": "1.2.0",
      "model_name": "LayoutModel",
      "state": {}
     },
     "f3e23a1d594b4254903fb714a4a9bdec": {
      "model_module": "@jupyter-widgets/controls",
      "model_module_version": "1.5.0",
      "model_name": "SliderStyleModel",
      "state": {
       "description_width": ""
      }
     },
     "f565a577e69e4399af12743ef49bcfcf": {
      "model_module": "@jupyter-widgets/controls",
      "model_module_version": "1.5.0",
      "model_name": "VBoxModel",
      "state": {
       "_dom_classes": [
        "widget-interact"
       ],
       "children": [
        "IPY_MODEL_cc10bb9c7dac4811b80f05011105bee7",
        "IPY_MODEL_c23579b73bf44fbd9a225a01a9919918"
       ],
       "layout": "IPY_MODEL_5ccda8ee4e3b492e8648f619cd0bcee1"
      }
     },
     "f56bbd44617e4f7a9dfda67972f8a4e2": {
      "model_module": "@jupyter-widgets/base",
      "model_module_version": "1.2.0",
      "model_name": "LayoutModel",
      "state": {}
     }
    },
    "version_major": 2,
    "version_minor": 0
   }
  }
 },
 "nbformat": 4,
 "nbformat_minor": 4
}
